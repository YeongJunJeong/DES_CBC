{
  "nbformat": 4,
  "nbformat_minor": 0,
  "metadata": {
    "colab": {
      "provenance": []
    },
    "kernelspec": {
      "name": "python3",
      "display_name": "Python 3"
    },
    "language_info": {
      "name": "python"
    }
  },
  "cells": [
    {
      "cell_type": "markdown",
      "source": [
        "**초기값 설정 (IV 부여)**"
      ],
      "metadata": {
        "id": "RHp9w3Mdk2xX"
      }
    },
    {
      "cell_type": "code",
      "source": [
        "from typing import NewType, List, Tuple, NewType, Callable\n",
        "\n",
        "\n",
        "# 블럭사이즈와 DES 라운드\n",
        "BLOCK_SIZE = 8\n",
        "DES_ROUND = 16\n",
        "\n",
        "BYTE = NewType('BYTE', int)\n",
        "UNIT = NewType('UNIT', int)\n",
        "\n",
        "msg_len = 0\n",
        "block_count = 0\n",
        "p_text = [0] * 128\n",
        "c_text = [0] * 128\n",
        "d_text = [0] * 128\n",
        "key = [0] * 9\n",
        "IV = [0] * 9"
      ],
      "metadata": {
        "id": "H0aQqxIZ63Gx"
      },
      "execution_count": 1,
      "outputs": []
    },
    {
      "cell_type": "code",
      "source": [
        "def DES_Encryption(p_text: List[BYTE], key: List[BYTE]) -> List[BYTE]:\n",
        "    result = []\n",
        "    return result\n",
        "\n",
        "def DES_Decryption(c_text: List[BYTE], key: List[BYTE]) -> List[BYTE]:\n",
        "    result = []\n",
        "    return result\n",
        "\n",
        "def IP(in_: List[BYTE]) -> List[BYTE]:\n",
        "    out = []\n",
        "    return out\n",
        "\n",
        "def In_IP(in_: List[BYTE]) -> List[BYTE]:\n",
        "    out = []\n",
        "    return out\n",
        "\n",
        "def EP(r: UNIT) -> List[BYTE]:\n",
        "    out = []\n",
        "    return out\n",
        "\n",
        "def permutation(in_: UNIT) -> UNIT:\n",
        "    return in_\n",
        "\n",
        "def PC1(in_: List[BYTE]) -> List[BYTE]:\n",
        "    out = []\n",
        "    return out\n",
        "\n",
        "def PC2(c: UNIT, d: UNIT) -> List[BYTE]:\n",
        "    out = []\n",
        "    return out\n",
        "\n",
        "def S_box_Transfer(in_: List[BYTE]) -> UNIT:\n",
        "    return 0\n",
        "\n",
        "def f(in_: UNIT, rkey: List[BYTE]) -> UNIT:\n",
        "    return 0\n",
        "\n",
        "def key_expansion(key: List[BYTE]) -> List[List[BYTE]]:\n",
        "    exp_key = [[] for _ in range(16)]\n",
        "    return exp_key\n",
        "\n",
        "def swap(x: UNIT, y: UNIT) -> Tuple[UNIT, UNIT]:\n",
        "    return y, x\n",
        "\n",
        "def makeBit28(c: UNIT, d: UNIT, data: List[BYTE]) -> None:\n",
        "    pass\n",
        "\n",
        "def cir_shift(n: UNIT, r: int) -> UNIT:\n",
        "    return 0\n",
        "\n",
        "def BtoW(in_: List[BYTE]) -> Tuple[UNIT, UNIT]:\n",
        "    x, y = 0, 0\n",
        "    return x, y\n",
        "\n",
        "def WtoB(x: UNIT, r: UNIT) -> List[BYTE]:\n",
        "    out = []\n",
        "    return out\n",
        "\n",
        "def DES_CBC_Enc(p_text: List[BYTE], IV: List[BYTE], key: List[BYTE], msg_len: int) -> List[BYTE]:\n",
        "    result = []\n",
        "    return result"
      ],
      "metadata": {
        "id": "lyVoncSfQC-f"
      },
      "execution_count": 2,
      "outputs": []
    },
    {
      "cell_type": "markdown",
      "source": [
        "**테이블**"
      ],
      "metadata": {
        "id": "cWbudJ4dk_Ul"
      }
    },
    {
      "cell_type": "code",
      "source": [
        "#IP 테이블\n",
        "IP = [\n",
        "       58,50,42,34,26,18,10, 2,\n",
        "       60,52,44,36,28,20,12, 4,\n",
        "       62,54,46,38,30,22,14, 6,\n",
        "       64,56,48,40,32,24,16, 8,\n",
        "       57,49,41,33,25,17, 9, 1,\n",
        "       59,51,43,35,27,19,11, 3,\n",
        "       61,53,45,37,29,21,13, 5,\n",
        "       63,55,47,39,31,23,15, 7]\n",
        "\n",
        "# Inverce IP 테이블\n",
        "In_IP = [\n",
        "        40, 8,48,16,56,24,64,32,\n",
        "        39, 7,47,15,55,23,63,31,\n",
        "        38, 6,46,14,54,22,62,30,\n",
        "        37, 5,45,13,53,21,61,29,\n",
        "        36, 4,44,12,52,20,60,28,\n",
        "        35, 3,43,11,51,19,59,27,\n",
        "        34, 2,42,10,50,18,58,26,\n",
        "        33, 1,41, 9,49,17,57,25]\n",
        "\n",
        "E = [\n",
        "     32, 1, 2, 3, 4, 5,\n",
        "      4, 5, 6, 7, 8, 9,\n",
        "      8, 9,10,11,12,13,\n",
        "     12,13,14,15,16,17,\n",
        "     16,17,18,19,20,21,\n",
        "     20,21,22,23,24,25,\n",
        "     24,25,26,27,28,29,\n",
        "     28,29,30,31,32, 1]\n",
        "\n",
        "# 32 비트\n",
        "P = [\n",
        "     16, 7,20,21,\n",
        "     29,12,28,17,\n",
        "      1,15,23,26,\n",
        "      5,18,31,10,\n",
        "      2, 8,24,14,\n",
        "     32,27, 3, 9,\n",
        "     19,13,30, 6,\n",
        "     22,11, 4,25]\n",
        "\n",
        "PC_1 = [\n",
        "        57, 9,41,33,25,17, 9, 1,\n",
        "        58,50,42,34,26,18,10, 2,\n",
        "        59,51,43,35,27,19,11, 3,\n",
        "        60,52,44,36,63,55,47,39,\n",
        "        31,23,15, 7,62,54,46,38,\n",
        "        30,22,14, 6,61,53,45,37,\n",
        "        29,21,13, 5,28,20,12, 4]\n",
        "\n",
        "PC_2 = [\n",
        "        14,17,11,24, 1, 5, 3,28,\n",
        "        15, 6,21,10,23,19,12, 4,\n",
        "        26, 8,16, 7,27,20,13, 2,\n",
        "        41,52,31,37,47,55,30,40,\n",
        "        51,45,33,48,44,49,39,56,\n",
        "        34,53,46,42,50,36,29,32]"
      ],
      "metadata": {
        "id": "08Oa3JX-Vkrz"
      },
      "execution_count": 3,
      "outputs": []
    },
    {
      "cell_type": "markdown",
      "source": [
        "**S-BOX**"
      ],
      "metadata": {
        "id": "9nERKL14lDTY"
      }
    },
    {
      "cell_type": "code",
      "source": [
        "# S-BOX\n",
        "s_box = [[[14, 4, 13, 1, 2, 15, 11, 8, 3, 10, 6, 12, 5, 9, 0, 7],\n",
        "\t\t[0, 15, 7, 4, 14, 2, 13, 1, 10, 6, 12, 11, 9, 5, 3, 8],\n",
        "\t\t[4, 1, 14, 8, 13, 6, 2, 11, 15, 12, 9, 7, 3, 10, 5, 0],\n",
        "\t\t[15, 12, 8, 2, 4, 9, 1, 7, 5, 11, 3, 14, 10, 0, 6, 13]],\n",
        "\n",
        "\t\t[[15, 1, 8, 14, 6, 11, 3, 4, 9, 7, 2, 13, 12, 0, 5, 10],\n",
        "\t\t[3, 13, 4, 7, 15, 2, 8, 14, 12, 0, 1, 10, 6, 9, 11, 5],\n",
        "\t\t[0, 14, 7, 11, 10, 4, 13, 1, 5, 8, 12, 6, 9, 3, 2, 15],\n",
        "\t\t[13, 8, 10, 1, 3, 15, 4, 2, 11, 6, 7, 12, 0, 5, 14, 9]],\n",
        "\n",
        "\t\t[[10, 0, 9, 14, 6, 3, 15, 5, 1, 13, 12, 7, 11, 4, 2, 8],\n",
        "\t\t[13, 7, 0, 9, 3, 4, 6, 10, 2, 8, 5, 14, 12, 11, 15, 1],\n",
        "\t\t[13, 6, 4, 9, 8, 15, 3, 0, 11, 1, 2, 12, 5, 10, 14, 7],\n",
        "\t\t[1, 10, 13, 0, 6, 9, 8, 7, 4, 15, 14, 3, 11, 5, 2, 12]],\n",
        "\n",
        "\t\t[[7, 13, 14, 3, 0, 6, 9, 10, 1, 2, 8, 5, 11, 12, 4, 15],\n",
        "\t\t[13, 8, 11, 5, 6, 15, 0, 3, 4, 7, 2, 12, 1, 10, 14, 9],\n",
        "\t\t[10, 6, 9, 0, 12, 11, 7, 13, 15, 1, 3, 14, 5, 2, 8, 4],\n",
        "\t\t[3, 15, 0, 6, 10, 1, 13, 8, 9, 4, 5, 11, 12, 7, 2, 14]],\n",
        "\n",
        "\t\t[[2, 12, 4, 1, 7, 10, 11, 6, 8, 5, 3, 15, 13, 0, 14, 9],\n",
        "\t\t[14, 11, 2, 12, 4, 7, 13, 1, 5, 0, 15, 10, 3, 9, 8, 6],\n",
        "\t\t[4, 2, 1, 11, 10, 13, 7, 8, 15, 9, 12, 5, 6, 3, 0, 14],\n",
        "\t\t[11, 8, 12, 7, 1, 14, 2, 13, 6, 15, 0, 9, 10, 4, 5, 3]],\n",
        "\n",
        "\t\t[[12, 1, 10, 15, 9, 2, 6, 8, 0, 13, 3, 4, 14, 7, 5, 11],\n",
        "\t\t[10, 15, 4, 2, 7, 12, 9, 5, 6, 1, 13, 14, 0, 11, 3, 8],\n",
        "\t\t[9, 14, 15, 5, 2, 8, 12, 3, 7, 0, 4, 10, 1, 13, 11, 6],\n",
        "\t\t[4, 3, 2, 12, 9, 5, 15, 10, 11, 14, 1, 7, 6, 0, 8, 13]],\n",
        "\n",
        "\t\t[[4, 11, 2, 14, 15, 0, 8, 13, 3, 12, 9, 7, 5, 10, 6, 1],\n",
        "\t\t[13, 0, 11, 7, 4, 9, 1, 10, 14, 3, 5, 12, 2, 15, 8, 6],\n",
        "\t\t[1, 4, 11, 13, 12, 3, 7, 14, 10, 15, 6, 8, 0, 5, 9, 2],\n",
        "\t\t[6, 11, 13, 8, 1, 4, 10, 7, 9, 5, 0, 15, 14, 2, 3, 12]],\n",
        "\n",
        "\t\t[[13, 2, 8, 4, 6, 15, 11, 1, 10, 9, 3, 14, 5, 0, 12, 7],\n",
        "\t\t[1, 15, 13, 8, 10, 3, 7, 4, 12, 5, 6, 11, 0, 14, 9, 2],\n",
        "\t\t[7, 11, 4, 1, 9, 12, 14, 2, 0, 6, 10, 13, 15, 3, 5, 8],\n",
        "\t\t[2, 1, 14, 7, 4, 10, 8, 13, 15, 12, 9, 0, 3, 5, 6, 11]]]"
      ],
      "metadata": {
        "id": "I1RkitUBWOYn"
      },
      "execution_count": 4,
      "outputs": []
    },
    {
      "cell_type": "markdown",
      "source": [
        "**DES CBC 암호화**"
      ],
      "metadata": {
        "id": "5BrAYCVfjpib"
      }
    },
    {
      "cell_type": "code",
      "source": [
        "def DES_Enc(p_text_block, key):\n",
        "    return p_text_block\n",
        "\n",
        "def key_expansion(key):\n",
        "    return [[0] * 6 for _ in range(16)]\n",
        "\n",
        "def IP(p_text_block):\n",
        "    return p_text_block\n",
        "\n",
        "def BtoW(block):\n",
        "    return 0, 0\n",
        "\n",
        "def DES_CBC_Enc(p_text, IV, key, msg_len):\n",
        "    vector = IV.copy()\n",
        "    result = bytearray(msg_len)\n",
        "\n",
        "    # DES CBC 암호화\n",
        "    for i in range(0, msg_len, BLOCK_SIZE):\n",
        "        p_text_block = bytearray(BLOCK_SIZE)\n",
        "\n",
        "        # XOR\n",
        "        for j in range(BLOCK_SIZE):\n",
        "            if i + j < len(p_text):\n",
        "                p_text_block[j] = p_text[i + j] ^ vector[j]\n",
        "            else:\n",
        "                p_text_block[j] = 0 ^ vector[j]\n",
        "\n",
        "        encrypted_block = DES_Enc(p_text_block, key)\n",
        "\n",
        "\n",
        "        result[i:i + BLOCK_SIZE] = encrypted_block\n",
        "\n",
        "        vector = encrypted_block\n",
        "\n",
        "    return result"
      ],
      "metadata": {
        "id": "DTW67gKpbFhO"
      },
      "execution_count": 5,
      "outputs": []
    },
    {
      "cell_type": "code",
      "source": [
        "def f(R, round_key):\n",
        "    return R\n",
        "\n",
        "def swap(L, R):\n",
        "    return R, L\n",
        "\n",
        "def WtoB(L, R):\n",
        "    return L.to_bytes(4, 'big') + R.to_bytes(4, 'big')\n",
        "\n",
        "def In_IP(block):\n",
        "    return block\n",
        "\n",
        "def DES_rounds(L, R, round_keys):\n",
        "    for i in range(DES_ROUND):\n",
        "        L = L ^ f(R, round_keys[i])\n",
        "        if i != DES_ROUND - 1:  # 마지막 라운드 주의\n",
        "            L, R = swap(L, R)\n",
        "    return L, R\n",
        "\n",
        "def DES_CBC_Enc(p_text, IV, key, msg_len):\n",
        "\n",
        "    # Key expansion\n",
        "    round_key = key_expansion(key)\n",
        "\n",
        "    # DES rounds\n",
        "    for i in range(0, msg_len, BLOCK_SIZE):\n",
        "\n",
        "    # initial permutation 실행\n",
        "     block = IP\n",
        "\n",
        "    # 32-bit 씩 L 와 R 나누기\n",
        "    L, R = BtoW(block)\n",
        "\n",
        "    # 16 DES rounds\n",
        "    L, R = DES_rounds(L, R, round_key)\n",
        "\n",
        "    # 32-bit 을 64-bit block 로\n",
        "    block = WtoB(L, R)\n",
        "\n",
        "    # inverse initial permutation 실행\n",
        "    final_block = In_IP(block)\n",
        "\n",
        "\n",
        "    return result"
      ],
      "metadata": {
        "id": "o6mrm5vacRse"
      },
      "execution_count": 6,
      "outputs": []
    },
    {
      "cell_type": "markdown",
      "source": [
        "**DES CBC 복호화**"
      ],
      "metadata": {
        "id": "vw4mcZ57jlmt"
      }
    },
    {
      "cell_type": "code",
      "source": [
        "def DES_Dec(c_text_block, key):\n",
        "    return c_text_block\n",
        "\n",
        "def DES_CBC_Dec(c_text, IV, key, msg_len):\n",
        "    vector = IV.copy()\n",
        "    result = bytearray(msg_len)\n",
        "\n",
        "# DES CBC 복호화\n",
        "    for i in range(0, msg_len, BLOCK_SIZE):\n",
        "        d_text_block = bytearray(BLOCK_SIZE)\n",
        "\n",
        "        decrypted_block = DES_Dec(c_text[i:i + BLOCK_SIZE], key)\n",
        "\n",
        "# XOR\n",
        "        for j in range(BLOCK_SIZE):\n",
        "            result[i + j] = decrypted_block[j] ^ vector[j]\n",
        "\n",
        "        if i > 0:\n",
        "            vector = c_text[i - BLOCK_SIZE:i]\n",
        "        else:\n",
        "            vector = IV\n",
        "\n",
        "    return result\n",
        "\n",
        "# DES rounds decryption\n",
        "def DES_rounds(L, R, round_keys):\n",
        "    for i in range(DES_ROUND):\n",
        "        L = L ^ f(R, round_keys[DES_ROUND - i - 1])\n",
        "        if i != DES_ROUND - 1:  # Do not swap after the final round\n",
        "            L, R = swap(L, R)\n",
        "    return L, R"
      ],
      "metadata": {
        "id": "SPHk3EXuclt2"
      },
      "execution_count": 7,
      "outputs": []
    },
    {
      "cell_type": "code",
      "source": [
        "def swap(x, y):\n",
        "    return y, x\n",
        "\n",
        "def BtoW(in_bytes):\n",
        "    x = 0\n",
        "    y = 0\n",
        "    for i in range(4):\n",
        "        x |= in_bytes[i] << (24 - i * 8)\n",
        "    for i in range(4, 8):\n",
        "        y |= in_bytes[i] << (56 - i * 8)\n",
        "    return x, y\n",
        "\n",
        "def WtoB(x, y):\n",
        "    out = bytearray(8)\n",
        "    mask = 0xFF000000\n",
        "    for i in range(4):\n",
        "        out[i] = (x & (mask >> i * 8)) >> (24 - i * 8)\n",
        "    for i in range(4, 8):\n",
        "        out[i] = (y & (mask >> (i - 4) * 8)) >> (24 - (i - 4) * 8)\n",
        "    return out"
      ],
      "metadata": {
        "id": "VWhXTzwOc7HB"
      },
      "execution_count": 8,
      "outputs": []
    },
    {
      "cell_type": "markdown",
      "source": [
        "**출력**"
      ],
      "metadata": {
        "id": "IypaeTq8kb0s"
      }
    },
    {
      "cell_type": "code",
      "source": [
        "def DES_CBC_Enc(p_text, IV, key, msg_len):\n",
        "    return p_text\n",
        "\n",
        "def DES_CBC_Dec(c_text, IV, key, msg_len):\n",
        "    return c_text\n",
        "\n",
        "def main() :\n",
        "    p_text_input = input(\"*평문을 입력하세요 : \")\n",
        "\n",
        "    key_input = input(\"*비밀키를 입력하세요 : \")\n",
        "\n",
        "    IV_input = input(\"*IV 입력 : \")\n",
        "\n",
        "    # ASCII 코드 입력\n",
        "    p_text = p_text_input.encode('ascii')\n",
        "    key = key_input.encode('ascii')\n",
        "    IV = IV_input.encode('ascii')\n",
        "\n",
        "    msg_len = len(p_text)\n",
        "    if msg_len % BLOCK_SIZE != 0:\n",
        "        msg_len = ((msg_len // BLOCK_SIZE) + 1) * BLOCK_SIZE\n",
        "        p_text += bytes([0] * (msg_len - len(p_text)))\n",
        "\n",
        "    c_text = DES_CBC_Enc(p_text, IV, key, msg_len)\n",
        "\n",
        "    print(\"\\n*암호문 : \", end='')\n",
        "    for byte in c_text:\n",
        "        print(f\"{byte:02x}\", end='')\n",
        "    print(\"\\n\")\n",
        "\n",
        "    d_text = DES_CBC_Dec(c_text, IV, key, msg_len)\n",
        "\n",
        "    print(\"\\n*복호문 : \", end='')\n",
        "    print(d_text.decode('ascii').rstrip('\\0'), end='')\n",
        "    print(\"\\n\")\n",
        "\n",
        "if __name__ == \"__main__\":\n",
        "    main()"
      ],
      "metadata": {
        "colab": {
          "base_uri": "https://localhost:8080/"
        },
        "id": "6TAQmezaa1DO",
        "outputId": "e261da3c-e237-46ae-ff07-04ee02a03710"
      },
      "execution_count": 9,
      "outputs": [
        {
          "output_type": "stream",
          "name": "stdout",
          "text": [
            "*평문을 입력하세요 : I LOVE LIVERPOOL\n",
            "*비밀키를 입력하세요 : League Champion\n",
            "*IV 입력 : 12345678\n",
            "\n",
            "*암호문 : 49204c4f5645204c49564552504f4f4c\n",
            "\n",
            "\n",
            "*복호문 : I LOVE LIVERPOOL\n",
            "\n"
          ]
        }
      ]
    }
  ]
}